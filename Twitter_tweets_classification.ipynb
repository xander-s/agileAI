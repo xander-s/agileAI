{
  "cells": [
    {
      "cell_type": "markdown",
      "metadata": {
        "id": "view-in-github",
        "colab_type": "text"
      },
      "source": [
        "<a href=\"https://colab.research.google.com/github/xander-s/agileAI/blob/main/Twitter_tweets_classification.ipynb\" target=\"_parent\"><img src=\"https://colab.research.google.com/assets/colab-badge.svg\" alt=\"Open In Colab\"/></a>"
      ]
    },
    {
      "cell_type": "code",
      "source": [
        "import tweepy\n",
        "\n",
        "# Set your Twitter API credentials\n",
        "consumer_key = 'your_consumer_key'\n",
        "consumer_secret = 'your_consumer_secret'\n",
        "access_token = 'your_access_token'\n",
        "access_token_secret = 'your_access_token_secret'\n",
        "\n",
        "# Authenticate with Twitter\n",
        "auth = tweepy.OAuthHandler(consumer_key, consumer_secret)\n",
        "auth.set_access_token(access_token, access_token_secret)\n",
        "api = tweepy.API(auth)\n",
        "\n",
        "# Specify the user handle for which you want to retrieve tweets\n",
        "user_handle = '@MumbaiPolice'\n",
        "\n",
        "# Set the number of tweets to retrieve (adjust as needed)\n",
        "num_tweets = 10\n",
        "\n",
        "# Retrieve the user's timeline tweets\n",
        "tweets = api.user_timeline(screen_name=user_handle, count=num_tweets, tweet_mode='extended')\n",
        "\n",
        "# Display the tweets\n",
        "for tweet in tweets:\n",
        "    print(f'Tweet ID: {tweet.id_str}')\n",
        "    print(f'Text: {tweet.full_text}')\n",
        "    print('---')\n"
      ],
      "metadata": {
        "id": "1WjJPcjxfRVC"
      },
      "execution_count": null,
      "outputs": []
    },
    {
      "cell_type": "code",
      "source": [
        "import openai\n",
        "from google.colab import userdata\n",
        "openai.api_key=userdata.get('API_KEY')\n",
        "\n",
        "def analyze_sentiment_with_openai(tweet):\n",
        "    prompt = f\"Classify the sentiment of the following tweet '{tweet}': as fear, helplessness, disappointment, terror\"\n",
        "\n",
        "    # Make an API call to OpenAI\n",
        "    response = openai.chat.completions.create(\n",
        "        model=\"gpt-3.5-turbo\",\n",
        "        messages=[\n",
        "            {\n",
        "                \"role\":\"user\",\"content\":prompt+\"print the sentiment only\"\n",
        "            }\n",
        "          ]\n",
        "    )\n",
        "\n",
        "    generated_sentiment = response.choices[0].message.content\n",
        "\n",
        "    return generated_sentiment[generated_sentiment.rfind(\" \")+1:]\n",
        "\n",
        "def categorize_sentiment(sentiment):\n",
        "    action_prompt= f\"Categorize the potential damage of the '{tweet}' as high, medium, low and suggest an action based on the '{sentiment}' and show only the category either high or medium or low and the action\"\n",
        "\n",
        "    action_response=openai.chat.completions.create(\n",
        "        model=\"gpt-3.5-turbo\",\n",
        "        messages=[\n",
        "            {\n",
        "                \"role\":\"user\",\n",
        "                \"content\":action_prompt\n",
        "            }\n",
        "        ]\n",
        "    )\n",
        "    generated_action = action_response.choices[0].message.content\n",
        "\n",
        "    return generated_action\n",
        "\n",
        "\n",
        "tweets = [\n",
        "   # \"मंदिर में चोरी हो गयी\",\n",
        "    \"Just witnessed a concerning situation. Not an emergency, but feels uneasy. Requesting your assistance to ensure community safety.\"\n",
        "]\n",
        "\n",
        "for tweet in tweets:\n",
        "    sentiment = analyze_sentiment_with_openai(tweet)\n",
        "    category = categorize_sentiment(sentiment)\n",
        "    print(f'Tweet: \"{tweet}\"')\n",
        "    print(f'Sentiment: {sentiment}')\n",
        "    print(f'{category}')\n",
        "    print('---')\n"
      ],
      "metadata": {
        "colab": {
          "base_uri": "https://localhost:8080/"
        },
        "id": "JM69J-vMkSW1",
        "outputId": "d48220ca-ed91-4566-d8b3-7c80236bf5d4"
      },
      "execution_count": 14,
      "outputs": [
        {
          "output_type": "stream",
          "name": "stdout",
          "text": [
            "Tweet: \"Just witnessed a concerning situation. Not an emergency, but feels uneasy. Requesting your assistance to ensure community safety.\"\n",
            "Sentiment: Uneasy\n",
            "Category: Medium\n",
            "\n",
            "Action: Report the situation to appropriate authorities or community safety organizations.\n",
            "---\n"
          ]
        }
      ]
    }
  ],
  "metadata": {
    "colab": {
      "provenance": [],
      "include_colab_link": true
    },
    "kernelspec": {
      "display_name": "Python 3",
      "name": "python3"
    }
  },
  "nbformat": 4,
  "nbformat_minor": 0
}